{
 "cells": [
  {
   "cell_type": "code",
   "execution_count": 48,
   "id": "f50accb4",
   "metadata": {},
   "outputs": [
    {
     "name": "stdout",
     "output_type": "stream",
     "text": [
      "Files already downloaded and verified\n",
      "Files already downloaded and verified\n"
     ]
    }
   ],
   "source": [
    "import torch\n",
    "import matplotlib.pyplot as plt\n",
    "from torchvision.datasets import CIFAR10\n",
    "\n",
    "# train va testga bo'lamiz\n",
    "train=CIFAR10(root='data', train=True, download=True)\n",
    "test=CIFAR10(root='data', train=False , download=True)\n"
   ]
  },
  {
   "cell_type": "code",
   "execution_count": 49,
   "id": "2283d4ea",
   "metadata": {},
   "outputs": [
    {
     "data": {
      "text/plain": [
       "(<PIL.Image.Image image mode=RGB size=32x32 at 0x7F95B149D4C0>, 8)"
      ]
     },
     "execution_count": 49,
     "metadata": {},
     "output_type": "execute_result"
    }
   ],
   "source": [
    "train[100]"
   ]
  },
  {
   "cell_type": "code",
   "execution_count": 50,
   "id": "25b7a596",
   "metadata": {},
   "outputs": [
    {
     "data": {
      "text/plain": [
       "50000"
      ]
     },
     "execution_count": 50,
     "metadata": {},
     "output_type": "execute_result"
    }
   ],
   "source": [
    "len(train)"
   ]
  },
  {
   "cell_type": "code",
   "execution_count": 51,
   "id": "83026697",
   "metadata": {},
   "outputs": [
    {
     "data": {
      "text/plain": [
       "10000"
      ]
     },
     "execution_count": 51,
     "metadata": {},
     "output_type": "execute_result"
    }
   ],
   "source": [
    "len(test)"
   ]
  },
  {
   "cell_type": "code",
   "execution_count": 52,
   "id": "b4f4e801",
   "metadata": {},
   "outputs": [
    {
     "data": {
      "text/plain": [
       "<matplotlib.image.AxesImage at 0x7f9594e4ac10>"
      ]
     },
     "execution_count": 52,
     "metadata": {},
     "output_type": "execute_result"
    },
    {
     "data": {
      "image/png": "[encoded data removed]",
      "text/plain": [
       "<Figure size 432x288 with 1 Axes>"
      ]
     },
     "metadata": {
      "needs_background": "light"
     },
     "output_type": "display_data"
    }
   ],
   "source": [
    "im=train[450][0]\n",
    "plt.imshow(im)"
   ]
  },
  {
   "cell_type": "code",
   "execution_count": 53,
   "id": "4908b207",
   "metadata": {},
   "outputs": [
    {
     "name": "stdout",
     "output_type": "stream",
     "text": [
      "[[[140 150 141]\n",
      "  [138 148 141]\n",
      "  [136 146 137]\n",
      "  ...\n",
      "  [101 115 108]\n",
      "  [117 128 116]\n",
      "  [119 128 114]]\n",
      "\n",
      " [[144 153 144]\n",
      "  [144 154 146]\n",
      "  [150 159 148]\n",
      "  ...\n",
      "  [114 129 121]\n",
      "  [118 130 118]\n",
      "  [123 132 117]]\n",
      "\n",
      " [[143 152 141]\n",
      "  [148 157 146]\n",
      "  [155 163 152]\n",
      "  ...\n",
      "  [124 138 128]\n",
      "  [127 135 122]\n",
      "  [124 131 117]]\n",
      "\n",
      " ...\n",
      "\n",
      " [[148 159 155]\n",
      "  [130 142 140]\n",
      "  [102 113 112]\n",
      "  ...\n",
      "  [ 20  19  25]\n",
      "  [ 21  20  26]\n",
      "  [ 18  17  23]]\n",
      "\n",
      " [[144 155 151]\n",
      "  [122 134 132]\n",
      "  [ 91 104 101]\n",
      "  ...\n",
      "  [ 18  17  23]\n",
      "  [ 20  19  25]\n",
      "  [ 16  15  21]]\n",
      "\n",
      " [[138 150 146]\n",
      "  [116 129 127]\n",
      "  [ 85  96  93]\n",
      "  ...\n",
      "  [ 15  14  19]\n",
      "  [ 17  16  21]\n",
      "  [ 17  16  21]]]\n"
     ]
    }
   ],
   "source": [
    "import numpy as np\n",
    "rasm_np=np.array(im)\n",
    "print(rasm_np)"
   ]
  },
  {
   "cell_type": "code",
   "execution_count": 54,
   "id": "31372b2f",
   "metadata": {},
   "outputs": [
    {
     "data": {
      "text/plain": [
       "(32, 32, 3)"
      ]
     },
     "execution_count": 54,
     "metadata": {},
     "output_type": "execute_result"
    }
   ],
   "source": [
    "rasm_np.shape"
   ]
  },
  {
   "cell_type": "code",
   "execution_count": 55,
   "id": "4974a850",
   "metadata": {},
   "outputs": [
    {
     "name": "stdout",
     "output_type": "stream",
     "text": [
      "Files already downloaded and verified\n",
      "Files already downloaded and verified\n"
     ]
    }
   ],
   "source": [
    "# transform\n",
    "from torchvision import transforms as t\n",
    "transform=t.Compose([t.ToTensor(),\n",
    "                   t.Resize((32, 32), antialias=True)])\n",
    "# datani boshqatda transform bn chaqiramiz\n",
    "\n",
    "train_tr=CIFAR10(root='data', train=True, transform=transform, download=True)\n",
    "test_tr=CIFAR10(root='data', train=False, transform=transform, download=True)\n"
   ]
  },
  {
   "cell_type": "code",
   "execution_count": 56,
   "id": "b88bde52",
   "metadata": {},
   "outputs": [
    {
     "data": {
      "text/plain": [
       "tensor([[[0.8353, 0.8275, 0.8275,  ..., 0.5922, 0.5922, 0.5843],\n",
       "         [0.8392, 0.8314, 0.8314,  ..., 0.5961, 0.5961, 0.5922],\n",
       "         [0.8471, 0.8392, 0.8353,  ..., 0.6000, 0.6000, 0.5922],\n",
       "         ...,\n",
       "         [0.5686, 0.5333, 0.5608,  ..., 0.8471, 0.7686, 0.7176],\n",
       "         [0.5451, 0.5059, 0.5059,  ..., 0.8902, 0.8745, 0.8196],\n",
       "         [0.5373, 0.5608, 0.5333,  ..., 0.8196, 0.8510, 0.8941]],\n",
       "\n",
       "        [[0.8980, 0.8902, 0.8902,  ..., 0.6824, 0.6824, 0.6745],\n",
       "         [0.8980, 0.8902, 0.8902,  ..., 0.6863, 0.6863, 0.6824],\n",
       "         [0.8980, 0.8902, 0.8902,  ..., 0.6902, 0.6902, 0.6824],\n",
       "         ...,\n",
       "         [0.6235, 0.5804, 0.5961,  ..., 0.8510, 0.7725, 0.7176],\n",
       "         [0.6000, 0.5569, 0.5451,  ..., 0.8941, 0.8784, 0.8196],\n",
       "         [0.5961, 0.6078, 0.5686,  ..., 0.8196, 0.8510, 0.8941]],\n",
       "\n",
       "        [[0.9490, 0.9412, 0.9412,  ..., 0.8078, 0.8078, 0.8000],\n",
       "         [0.9451, 0.9373, 0.9373,  ..., 0.8118, 0.8118, 0.8039],\n",
       "         [0.9373, 0.9294, 0.9294,  ..., 0.8078, 0.8078, 0.8000],\n",
       "         ...,\n",
       "         [0.6471, 0.6039, 0.6196,  ..., 0.8078, 0.7490, 0.7137],\n",
       "         [0.6235, 0.5804, 0.5686,  ..., 0.8588, 0.8588, 0.8196],\n",
       "         [0.6157, 0.6314, 0.5961,  ..., 0.7961, 0.8353, 0.8863]]])"
      ]
     },
     "execution_count": 56,
     "metadata": {},
     "output_type": "execute_result"
    }
   ],
   "source": [
    "train_tr[100][0]"
   ]
  },
  {
   "cell_type": "code",
   "execution_count": 57,
   "id": "a3172c70",
   "metadata": {},
   "outputs": [
    {
     "data": {
      "text/plain": [
       "50000"
      ]
     },
     "execution_count": 57,
     "metadata": {},
     "output_type": "execute_result"
    }
   ],
   "source": [
    "len(train_tr)"
   ]
  },
  {
   "cell_type": "markdown",
   "id": "08d3255f",
   "metadata": {},
   "source": [
    "`dataloader` "
   ]
  },
  {
   "cell_type": "code",
   "execution_count": 58,
   "id": "f2a083a9",
   "metadata": {},
   "outputs": [
    {
     "data": {
      "text/plain": [
       "391"
      ]
     },
     "execution_count": 58,
     "metadata": {},
     "output_type": "execute_result"
    }
   ],
   "source": [
    "train_data_load=torch.utils.data.DataLoader( dataset= train_tr,\n",
    "                                           batch_size=128,\n",
    "                                           shuffle=True,\n",
    "                                           num_workers=6)\n",
    "len(train_data_load)"
   ]
  },
  {
   "cell_type": "code",
   "execution_count": 59,
   "id": "3401dbca",
   "metadata": {},
   "outputs": [
    {
     "data": {
      "text/plain": [
       "79"
      ]
     },
     "execution_count": 59,
     "metadata": {},
     "output_type": "execute_result"
    }
   ],
   "source": [
    "valid_data_load=torch.utils.data.DataLoader(dataset=test_tr,\n",
    "                                           batch_size=128,\n",
    "                                           shuffle=False,\n",
    "                                           num_workers=6)\n",
    "len(valid_data_load)"
   ]
  },
  {
   "cell_type": "code",
   "execution_count": 60,
   "id": "653a86a4",
   "metadata": {},
   "outputs": [
    {
     "data": {
      "text/plain": [
       "<torch.utils.data.dataloader.DataLoader at 0x7f95960465b0>"
      ]
     },
     "execution_count": 60,
     "metadata": {},
     "output_type": "execute_result"
    }
   ],
   "source": [
    "train_data_load"
   ]
  },
  {
   "cell_type": "code",
   "execution_count": 61,
   "id": "8c11fe82",
   "metadata": {},
   "outputs": [
    {
     "data": {
      "text/plain": [
       "tensor([[0.0650, 0.0601, 0.0708, 0.0738, 0.0640, 0.0622, 0.0597, 0.0691, 0.0680,\n",
       "         0.0727, 0.0687, 0.0586, 0.0656, 0.0718, 0.0700],\n",
       "        [0.0714, 0.0578, 0.0671, 0.0709, 0.0689, 0.0654, 0.0618, 0.0694, 0.0694,\n",
       "         0.0611, 0.0667, 0.0664, 0.0702, 0.0709, 0.0626],\n",
       "        [0.0735, 0.0600, 0.0666, 0.0731, 0.0701, 0.0650, 0.0631, 0.0646, 0.0699,\n",
       "         0.0642, 0.0664, 0.0610, 0.0660, 0.0718, 0.0647],\n",
       "        [0.0676, 0.0624, 0.0655, 0.0749, 0.0678, 0.0640, 0.0666, 0.0659, 0.0721,\n",
       "         0.0643, 0.0686, 0.0551, 0.0697, 0.0718, 0.0637],\n",
       "        [0.0663, 0.0636, 0.0668, 0.0749, 0.0664, 0.0687, 0.0573, 0.0643, 0.0684,\n",
       "         0.0674, 0.0664, 0.0635, 0.0656, 0.0732, 0.0671],\n",
       "        [0.0673, 0.0590, 0.0693, 0.0700, 0.0643, 0.0639, 0.0592, 0.0705, 0.0755,\n",
       "         0.0660, 0.0675, 0.0584, 0.0674, 0.0729, 0.0687],\n",
       "        [0.0708, 0.0591, 0.0745, 0.0723, 0.0669, 0.0678, 0.0586, 0.0690, 0.0645,\n",
       "         0.0646, 0.0653, 0.0618, 0.0649, 0.0731, 0.0668],\n",
       "        [0.0744, 0.0594, 0.0686, 0.0753, 0.0693, 0.0651, 0.0560, 0.0668, 0.0639,\n",
       "         0.0644, 0.0676, 0.0573, 0.0688, 0.0748, 0.0684],\n",
       "        [0.0649, 0.0593, 0.0676, 0.0728, 0.0673, 0.0659, 0.0636, 0.0683, 0.0763,\n",
       "         0.0662, 0.0687, 0.0586, 0.0619, 0.0753, 0.0633],\n",
       "        [0.0706, 0.0577, 0.0671, 0.0751, 0.0648, 0.0675, 0.0608, 0.0692, 0.0720,\n",
       "         0.0632, 0.0676, 0.0607, 0.0693, 0.0683, 0.0661]],\n",
       "       grad_fn=<SoftmaxBackward0>)"
      ]
     },
     "execution_count": 61,
     "metadata": {},
     "output_type": "execute_result"
    }
   ],
   "source": [
    "class My_first_model(torch.nn.Module):\n",
    "    \n",
    "    def __init__(self, in_fr, num_class):\n",
    "        super(). __init__()\n",
    "        \n",
    "        self.linear_layer1=torch.nn.Linear(in_features=in_fr, out_features=in_fr//2)\n",
    "        self.activation=torch.nn.ReLU()\n",
    "        \n",
    "        self.linear_layer2=torch.nn.Linear(in_features=in_fr//2, out_features=in_fr//4)\n",
    "        self.out_linear=torch.nn.Linear(in_features=in_fr//4, out_features=num_class)\n",
    "        \n",
    "    def forward(self, inp):\n",
    "        bs=inp.shape[0]\n",
    "#         print(inp.shape)\n",
    "        inp=inp.view(bs, -1)\n",
    "#         print(inp.shape)\n",
    "        \n",
    "        \n",
    "        inp=self.linear_layer1(inp)\n",
    "        inp=self.activation(inp)\n",
    "        inp=self.linear_layer2(inp)\n",
    "        out=self.out_linear(inp)\n",
    "        \n",
    "        return out\n",
    "        \n",
    "        \n",
    "        \n",
    "model=My_first_model(in_fr=3*32*32, num_class=15)\n",
    "raqam_0=torch.rand(10, 3, 32, 32)\n",
    "torch.nn.functional.softmax(model(raqam_0), dim = 1) \n",
    "# model(raqam_0).shape\n",
    "        "
   ]
  },
  {
   "cell_type": "code",
   "execution_count": 62,
   "id": "dbb39751",
   "metadata": {},
   "outputs": [],
   "source": [
    "# import torch.nn as nn\n",
    "# import torch.nn.functional as f\n",
    "\n",
    "# class my_class(nn.Module):\n",
    "    \n",
    "#     def __init__(self, in_fr, num_workers):\n",
    "#         super(). __init__()\n",
    "        \n",
    "#         self.linear_layer1=nn.Linear(in_features=in_fr, out_features=in_fr//2)\n",
    "#         self.activation=nn.ReLU()\n",
    "        \n",
    "#         self.linear_layer2=nn.Linear(in_features=in_fr//2, out_features=in_fr//4)\n",
    "#         self.out_liner=nn.Linear(in_features=in_fr//4, out_features=num_workers)\n",
    "        \n",
    "#     def forward(self, inp):\n",
    "        \n",
    "#         bs=inp.shape[0]\n",
    "#         print(inp.shape)\n",
    "#         inp=inp.view(bs, -1)\n",
    "#         print(inp.shape)\n",
    "        \n",
    "#         inp=self.linear_layer1(inp)\n",
    "#         inp=self.activation(inp)\n",
    "#         inp=self.linear_layer2(inp)\n",
    "#         inp=self.activation(inp)\n",
    "        \n",
    "#         out=self.out_liner(inp)\n",
    "        \n",
    "#         return out\n",
    "\n",
    "# model=my_class(in_fr=1*28*28, num_workers=10)\n",
    "# number=torch.rand(10, 1, 28, 28)\n",
    "\n",
    "# torch.nn.functional.softmax(model(number), dim=1)\n"
   ]
  },
  {
   "cell_type": "code",
   "execution_count": 63,
   "id": "8a5bf196",
   "metadata": {},
   "outputs": [
    {
     "name": "stdout",
     "output_type": "stream",
     "text": [
      "torch.Size([1536, 3072])\n",
      "4718592\n",
      "torch.Size([1536])\n",
      "1536\n",
      "torch.Size([768, 1536])\n",
      "1179648\n",
      "torch.Size([768])\n",
      "768\n",
      "torch.Size([15, 768])\n",
      "11520\n",
      "torch.Size([15])\n",
      "15\n"
     ]
    }
   ],
   "source": [
    "for m in list(model.parameters()):\n",
    "    print(m.shape)\n",
    "    print(m.numel())"
   ]
  },
  {
   "cell_type": "code",
   "execution_count": null,
   "id": "26989d00",
   "metadata": {},
   "outputs": [],
   "source": []
  },
  {
   "cell_type": "code",
   "execution_count": 64,
   "id": "811b2b69",
   "metadata": {},
   "outputs": [],
   "source": [
    "\n",
    "epochs = 4\n",
    "devise = 'cuda' if torch.cuda.is_available() else 'cpu'\n",
    "model.to(devise)\n",
    "\n",
    "loss_fn = torch.nn.CrossEntropyLoss()\n",
    "optimizer = torch.optim.Adam(params = model.parameters(), lr = 0.003)\n"
   ]
  },
  {
   "cell_type": "code",
   "execution_count": 65,
   "id": "8f316b29",
   "metadata": {},
   "outputs": [
    {
     "name": "stdout",
     "output_type": "stream",
     "text": [
      "train is starting .....\n",
      "1 -> epoch boshlandi!\n",
      "\n",
      "1-epoch tugadi!\n",
      "~~~~~~~~~~~~~~~~~~~~~~~~~~~~~~~~~~~~~~~~~~~~~~~~~~~~~~\n",
      "1-epochdagi natijalar:\n",
      "\n",
      "1-epochdagi train accuracy score      -> 0.29198\n",
      "1-epochdagi validation loss     score -> 1.843029749544361\n",
      "1-epochdagi validation accuracy score -> 0.321\n",
      "\n",
      "2 -> epoch boshlandi!\n",
      "\n",
      "2-epoch tugadi!\n",
      "~~~~~~~~~~~~~~~~~~~~~~~~~~~~~~~~~~~~~~~~~~~~~~~~~~~~~~\n",
      "2-epochdagi natijalar:\n",
      "\n",
      "2-epochdagi train accuracy score      -> 0.35076\n",
      "2-epochdagi validation loss     score -> 1.7626238563392735\n",
      "2-epochdagi validation accuracy score -> 0.3571\n",
      "\n",
      "3 -> epoch boshlandi!\n",
      "\n",
      "3-epoch tugadi!\n",
      "~~~~~~~~~~~~~~~~~~~~~~~~~~~~~~~~~~~~~~~~~~~~~~~~~~~~~~\n",
      "3-epochdagi natijalar:\n",
      "\n",
      "3-epochdagi train accuracy score      -> 0.36806\n",
      "3-epochdagi validation loss     score -> 1.7772243551061124\n",
      "3-epochdagi validation accuracy score -> 0.3599\n",
      "\n",
      "4 -> epoch boshlandi!\n",
      "\n",
      "4-epoch tugadi!\n",
      "~~~~~~~~~~~~~~~~~~~~~~~~~~~~~~~~~~~~~~~~~~~~~~~~~~~~~~\n",
      "4-epochdagi natijalar:\n",
      "\n",
      "4-epochdagi train accuracy score      -> 0.38018\n",
      "4-epochdagi validation loss     score -> 1.698193423355682\n",
      "4-epochdagi validation accuracy score -> 0.3897\n",
      "\n"
     ]
    }
   ],
   "source": [
    "\n",
    "print(\"train is starting .....\")\n",
    "for epoch in range(epochs):\n",
    "    print(f\"{epoch+1} - >  epoch boshlandi!\\n\")\n",
    "    \n",
    "    tr_acc_score, tr_total = 0, 0\n",
    "    for ind, batch in enumerate(train_data_load):\n",
    "        ims, gts = batch\n",
    "#         print(ims.shape)\n",
    "        \n",
    "        img = ims.to(devise)\n",
    "        gts = gts.to(devise)\n",
    "        \n",
    "        # predicts\n",
    "        preds = model(img)\n",
    "        loss = loss_fn(preds, gts)\n",
    "        \n",
    "        tr_total += ims.shape[0]\n",
    "        pred_class = torch.argmax(preds, dim = 1)\n",
    "        \n",
    "        acc_score = (pred_class == gts).sum().item()\n",
    "        tr_acc_score += acc_score\n",
    "        \n",
    "        optimizer.zero_grad()\n",
    "        loss.backward()\n",
    "        optimizer.step()\n",
    "        \n",
    "    model.eval() # modelni evaluation (baholash) mode ga o'tkizadi; trainable parameter larni yangilay olmaymiz.\n",
    "    \n",
    "    with torch.no_grad():\n",
    "        val_epoch_loss = 0.\n",
    "        val_total = 0.\n",
    "        val_epoch_acc = 0.\n",
    "        \n",
    "        for ind, batch in enumerate(valid_data_load):\n",
    "            img, gts = batch\n",
    "            \n",
    "            val_total += img.shape[0]\n",
    "            \n",
    "            img = img.to(devise)\n",
    "            gts = gts.to(devise)\n",
    "            \n",
    "            pred = model(img)\n",
    "            \n",
    "            pred_class = torch.argmax(pred, dim = 1)\n",
    "            val_acc = (pred_class == gts).sum().item()\n",
    "            \n",
    "            val_epoch_acc +=val_acc\n",
    "            \n",
    "            loss = loss_fn(pred, gts)\n",
    "            val_epoch_loss += loss.item()\n",
    "            \n",
    "        print(f\"{epoch + 1}-epoch tugadi!\")\n",
    "        print(\"~~~~~~~~~~~~~~~~~~~~~~~~~~~~~~~~~~~~~~~~~~~~~~~~~~~~~~\")\n",
    "        print(f\"{epoch + 1}-epochdagi natijalar:\\n\")\n",
    "        print(f\"{epoch + 1}-epochdagi train accuracy score      -> {tr_acc_score / tr_total}\")\n",
    "        print(f\"{epoch + 1}-epochdagi validation loss     score -> {val_epoch_loss / len(valid_data_load)}\")\n",
    "        print(f\"{epoch + 1}-epochdagi validation accuracy score -> {val_epoch_acc / val_total}\\n\")      \n",
    "            \n",
    "        \n",
    "    "
   ]
  },
  {
   "cell_type": "code",
   "execution_count": null,
   "id": "3fb323bf",
   "metadata": {},
   "outputs": [],
   "source": []
  },
  {
   "cell_type": "code",
   "execution_count": null,
   "id": "eefc6b62",
   "metadata": {},
   "outputs": [],
   "source": []
  },
  {
   "cell_type": "code",
   "execution_count": null,
   "id": "ab4dfe46",
   "metadata": {},
   "outputs": [],
   "source": []
  },
  {
   "cell_type": "code",
   "execution_count": null,
   "id": "ae24b8b9",
   "metadata": {},
   "outputs": [],
   "source": []
  },
  {
   "cell_type": "code",
   "execution_count": null,
   "id": "84eff305",
   "metadata": {},
   "outputs": [],
   "source": []
  }
 ],
 "metadata": {
  "kernelspec": {
   "display_name": "Python 3 (ipykernel)",
   "language": "python",
   "name": "python3"
  },
  "language_info": {
   "codemirror_mode": {
    "name": "ipython",
    "version": 3
   },
   "file_extension": ".py",
   "mimetype": "text/x-python",
   "name": "python",
   "nbconvert_exporter": "python",
   "pygments_lexer": "ipython3",
   "version": "3.9.12"
  }
 },
 "nbformat": 4,
 "nbformat_minor": 5
}
